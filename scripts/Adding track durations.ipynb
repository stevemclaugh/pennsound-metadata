{
 "cells": [
  {
   "cell_type": "code",
   "execution_count": 4,
   "metadata": {
    "collapsed": true
   },
   "outputs": [],
   "source": [
    "import os\n",
    "import csv\n",
    "\n",
    "os.chdir('/Users/mclaugh/Dropbox/pennsound-metadata/')\n",
    "\n",
    "old_metadata_path=\"old/PennSound_metadata_2016-05-26.csv\"\n",
    "\n",
    "old_metadata_lol=[]\n",
    "\n",
    "with open(old_metadata_path) as csvfile:\n",
    "    reader = csv.reader(csvfile)\n",
    "    for row in reader:\n",
    "        old_metadata_lol.append(row)"
   ]
  },
  {
   "cell_type": "code",
   "execution_count": 5,
   "metadata": {},
   "outputs": [],
   "source": [
    "import datetime\n",
    "\n",
    "\n"
   ]
  },
  {
   "cell_type": "code",
   "execution_count": 6,
   "metadata": {},
   "outputs": [],
   "source": [
    "duration_dict={}\n",
    "\n",
    "for row in old_metadata_lol:\n",
    "    filename = row[1]\n",
    "    try:\n",
    "        duration_secs=float(row[22])\n",
    "        hms = str(datetime.timedelta(seconds=duration_secs))[:-4]\n",
    "        hms2='|'+hms\n",
    "        hms2=hms2.replace('|0:','|').replace('|00:','|0:').replace('|0','|').replace('|:','|0:')  #kludgey\n",
    "        hms2=hms2.replace('|','')\n",
    "        hms = hms2\n",
    "    except:\n",
    "        hms=''\n",
    "    duration_dict[filename] = hms"
   ]
  },
  {
   "cell_type": "code",
   "execution_count": null,
   "metadata": {},
   "outputs": [],
   "source": [
    "\n"
   ]
  },
  {
   "cell_type": "code",
   "execution_count": null,
   "metadata": {},
   "outputs": [],
   "source": []
  },
  {
   "cell_type": "code",
   "execution_count": 9,
   "metadata": {
    "collapsed": true
   },
   "outputs": [],
   "source": [
    "\n",
    "new_metadata_path=\"PennSound_metadata.csv\"\n",
    "\n",
    "new_metadata_lol=[]\n",
    "\n",
    "with open(new_metadata_path) as csvfile:\n",
    "    reader = csv.reader(csvfile)\n",
    "    for row in reader:\n",
    "        new_metadata_lol.append(row)"
   ]
  },
  {
   "cell_type": "code",
   "execution_count": 10,
   "metadata": {
    "collapsed": true
   },
   "outputs": [],
   "source": [
    "for row in new_metadata_lol:\n",
    "    filename=row[0]\n",
    "    try:\n",
    "        hms = duration_dict[filename]\n",
    "    except:\n",
    "        hms = ''\n",
    "    row.append(hms)"
   ]
  },
  {
   "cell_type": "code",
   "execution_count": 11,
   "metadata": {
    "collapsed": true
   },
   "outputs": [],
   "source": [
    "\n",
    "with open('PennSound_metadata_w_durations.csv', 'w') as csvfile:\n",
    "    writer = csv.writer(csvfile)\n",
    "    writer.writerows(new_metadata_lol)"
   ]
  },
  {
   "cell_type": "code",
   "execution_count": null,
   "metadata": {
    "collapsed": true
   },
   "outputs": [],
   "source": []
  }
 ],
 "metadata": {
  "kernelspec": {
   "display_name": "Python 3",
   "language": "python",
   "name": "python3"
  },
  "language_info": {
   "codemirror_mode": {
    "name": "ipython",
    "version": 3
   },
   "file_extension": ".py",
   "mimetype": "text/x-python",
   "name": "python",
   "nbconvert_exporter": "python",
   "pygments_lexer": "ipython3",
   "version": "3.6.0"
  }
 },
 "nbformat": 4,
 "nbformat_minor": 2
}
