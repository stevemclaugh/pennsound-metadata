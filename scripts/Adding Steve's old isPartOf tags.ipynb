{
 "cells": [
  {
   "cell_type": "code",
   "execution_count": 2,
   "metadata": {
    "collapsed": true
   },
   "outputs": [],
   "source": [
    "import os\n",
    "import csv\n",
    "\n",
    "os.chdir('/Users/mclaugh/Dropbox/pennsound-metadata/')\n",
    "\n",
    "old_metadata_path=\"old/PennSound_metadata_2016-05-26.csv\"\n",
    "\n",
    "old_metadata_lol=[]\n",
    "\n",
    "with open(old_metadata_path) as csvfile:\n",
    "    reader = csv.reader(csvfile)\n",
    "    for row in reader:\n",
    "        old_metadata_lol.append(row)"
   ]
  },
  {
   "cell_type": "code",
   "execution_count": 10,
   "metadata": {},
   "outputs": [],
   "source": [
    "isPartOf_dict={}\n",
    "\n",
    "for row in old_metadata_lol:\n",
    "    parent_file=row[18]\n",
    "    filename=row[1]\n",
    "    isPartOf_dict[filename]=parent_file"
   ]
  },
  {
   "cell_type": "code",
   "execution_count": 11,
   "metadata": {
    "collapsed": true
   },
   "outputs": [],
   "source": [
    "\n",
    "new_metadata_path=\"PennSound_metadata.csv\"\n",
    "\n",
    "new_metadata_lol=[]\n",
    "\n",
    "with open(new_metadata_path) as csvfile:\n",
    "    reader = csv.reader(csvfile)\n",
    "    for row in reader:\n",
    "        new_metadata_lol.append(row)"
   ]
  },
  {
   "cell_type": "code",
   "execution_count": 14,
   "metadata": {},
   "outputs": [],
   "source": [
    "for row in new_metadata_lol:\n",
    "    filename=row[0]\n",
    "    try:\n",
    "        isPartOf_file=isPartOf_dict[filename]\n",
    "    except:\n",
    "        isPartOf_file=''\n",
    "    row.append(isPartOf_file)"
   ]
  },
  {
   "cell_type": "code",
   "execution_count": 16,
   "metadata": {},
   "outputs": [],
   "source": [
    "\n",
    "with open('PennSound_metadata_w_Steve_isPartOfs.csv', 'w') as csvfile:\n",
    "    writer = csv.writer(csvfile)\n",
    "    writer.writerows(new_metadata_lol)"
   ]
  },
  {
   "cell_type": "code",
   "execution_count": null,
   "metadata": {
    "collapsed": true
   },
   "outputs": [],
   "source": []
  }
 ],
 "metadata": {
  "kernelspec": {
   "display_name": "Python 3",
   "language": "python",
   "name": "python3"
  },
  "language_info": {
   "codemirror_mode": {
    "name": "ipython",
    "version": 3
   },
   "file_extension": ".py",
   "mimetype": "text/x-python",
   "name": "python",
   "nbconvert_exporter": "python",
   "pygments_lexer": "ipython3",
   "version": "3.6.0"
  }
 },
 "nbformat": 4,
 "nbformat_minor": 2
}
